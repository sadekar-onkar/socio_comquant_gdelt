{
 "cells": [
  {
   "cell_type": "code",
   "execution_count": 86,
   "metadata": {},
   "outputs": [],
   "source": [
    "import pandas as pd\n",
    "import numpy as np\n",
    "import matplotlib.pyplot as plt\n",
    "import os\n",
    "\n",
    "src_path = os.getcwd()[0:-4]\n",
    "\n",
    "text_font = 20"
   ]
  },
  {
   "cell_type": "code",
   "execution_count": 87,
   "metadata": {},
   "outputs": [],
   "source": [
    "color_list = ['#094A74', '#EEB140', '#E45854']"
   ]
  },
  {
   "cell_type": "code",
   "execution_count": 88,
   "metadata": {},
   "outputs": [],
   "source": [
    "def axis_decor(ax, text_font):\n",
    "\n",
    "    ax.spines['top'].set_linewidth(0)\n",
    "    ax.spines['right'].set_linewidth(0)\n",
    "    ax.spines['bottom'].set_linewidth(3)\n",
    "    ax.spines['left'].set_linewidth(3)\n",
    "\n",
    "    ax.tick_params(axis='both', which='major', labelsize=text_font, length=15, width=3)\n",
    "    ax.tick_params(axis='both', which='minor', labelsize=text_font, length=10, width=3)"
   ]
  },
  {
   "cell_type": "code",
   "execution_count": 89,
   "metadata": {},
   "outputs": [
    {
     "data": {
      "text/plain": [
       "Index(['title_full', 'title', 'title_slug', 'url', 'category', 'bias_rating',\n",
       "       'factual_reporting', 'country', 'press_freedom_rating', 'media_type',\n",
       "       'traffic/popularity', 'mbfc_credibility_rating',\n",
       "       'mbfc’s_country_freedom_rating', 'mbfc’s_freedom_rating',\n",
       "       'press_freedom_rank', 'world_press_freedom_rank',\n",
       "       'mbfc’s_country_freedom_rank', 'mbfc’s_country_freedom_profile',\n",
       "       'press_freedom_rating_', 'mbfc_country_freedom_rating', 'reasoning',\n",
       "       '_world_press_freedom_rank', 'questionable_reasoning'],\n",
       "      dtype='object')"
      ]
     },
     "execution_count": 89,
     "metadata": {},
     "output_type": "execute_result"
    }
   ],
   "source": [
    "df = pd.read_csv(src_path + 'data/bias_data.csv')\n",
    "\n",
    "df.columns"
   ]
  },
  {
   "cell_type": "code",
   "execution_count": 92,
   "metadata": {},
   "outputs": [
    {
     "data": {
      "text/plain": [
       "array(['USA', 'Slovenia', 'United States', 'Philippines', 'South Africa',\n",
       "       'France', 'Italy', 'Romania', 'United Kingdom', 'Netherlands',\n",
       "       'Cyprus', 'South Korea', 'USA (44/180 Press Freedom)', 'Hong Kong',\n",
       "       'Australia', 'Tunisia', 'United Arab Emirates', 'Canada',\n",
       "       'Singapore', 'Belgium', 'Indonesia', 'Germany', 'Puerto Rico/USA',\n",
       "       'Estonia', 'Israel', 'Austria', 'Japan', 'Lithuania',\n",
       "       'USA (45/180 Press Freedom)', 'India', nan, 'New Zealand',\n",
       "       'Malaysia', 'Guam (US Territory)', 'France (34/180 Press Freedom)',\n",
       "       'Ireland', 'Japan (67/180 Press Freedom)',\n",
       "       'Australia (26/180 Press Freedom)', 'Jordan', 'Mexico', 'Belarus',\n",
       "       'Finland', 'Sweden', 'China', 'Latvia', 'Cambodia', 'Sri Lanka',\n",
       "       'Qatar', 'France/Germany', 'Ukraine', 'Taiwan', 'Columbia', 'USA|',\n",
       "       'Uganda', 'Kenya', 'Pakistan', 'Austria (18/180 Press Freedom)',\n",
       "       'Egypt', 'Spain', 'Beligium', 'Poland', 'Switzerland', 'Iceland',\n",
       "       'Croatia', 'Argentina', 'Iraq', 'Czech Republic',\n",
       "       'United Kingdom (33/180 Press Freedom)', 'Nigeria',\n",
       "       'Saudi Arabia (170/180 Press Freedom)',\n",
       "       'Canada (14/180 Press Freedom)', 'Germany (11/180 Press Freedom)',\n",
       "       'Norway', 'United Kingdom (Scotland)', 'Thailand', 'Denmark',\n",
       "       'Ecuador', 'Greece', 'Russia', 'Andorra', 'Costa Rica', 'Portugal',\n",
       "       'Italy (Vatican City)', 'Turkey', 'Unknown'], dtype=object)"
      ]
     },
     "execution_count": 92,
     "metadata": {},
     "output_type": "execute_result"
    }
   ],
   "source": [
    "df['country'].unique()"
   ]
  },
  {
   "cell_type": "code",
   "execution_count": 93,
   "metadata": {},
   "outputs": [
    {
     "data": {
      "image/png": "[encoded data removed]",
      "text/plain": [
       "<Figure size 720x360 with 1 Axes>"
      ]
     },
     "metadata": {
      "needs_background": "light"
     },
     "output_type": "display_data"
    }
   ],
   "source": [
    "# mediahouse_category = list(df['category'].unique())\n",
    "mediahouse_category = ['left', 'leftcenter',  'center', 'right', 'right-center']\n",
    "\n",
    "traffic_status = [\n",
    "    ['High Traffic', 'High\\xa0Traffic', 'High Traffic (Social Media)', 'High Traffic (when online)', 'HIGH\\xa0Traffic'],\n",
    "    ['Medium Traffic', 'MediumTraffic', 'Medium', 'Medium\\xa0Traffic'],\n",
    "    ['Minimal Traffic', 'Minimal\\xa0Traffic', 'Mimimal Traffic', 'Minmal Traffic', 'MinimalTraffic']\n",
    "]\n",
    "\n",
    "traffic_data_category = np.zeros((3,5))\n",
    "\n",
    "\n",
    "for mh, mh_cat in enumerate(mediahouse_category):\n",
    "    temp_df = df[df['category'] == mh_cat]\n",
    "\n",
    "    for i in range(3):\n",
    "        for j in range(len(traffic_status[i])):\n",
    "            traffic_data_category[i, mh] += len(temp_df[temp_df['traffic/popularity'] == traffic_status[i][j]])\n",
    "\n",
    "\n",
    "\n",
    "mediahouse_category[1] = 'left-center'\n",
    "fig, ax = plt.subplots(figsize=(10, 5))\n",
    "\n",
    "x = np.arange(len(mediahouse_category))\n",
    "\n",
    "\n",
    "ax.bar(x-0.2, traffic_data_category[0, :], width= 0.2, label='High Traffic', color= color_list[0])\n",
    "ax.bar(x, traffic_data_category[1, :], width = 0.2, label='Medium Traffic', color= color_list[1])\n",
    "ax.bar(x+0.2, traffic_data_category[2, :], width = 0.2, label='Minimal Traffic', color= color_list[2])\n",
    "\n",
    "\n",
    "ax.set_ylabel('Number of Media Houses', fontsize=text_font)\n",
    "ax.set_xticks(x, mediahouse_category)\n",
    "axis_decor(ax, text_font)\n",
    "\n",
    "\n",
    "plt.legend(frameon=False, fontsize=text_font, loc='upper right', bbox_to_anchor=(0.85, 0.9, 0.2, 0.2))\n",
    "plt.tight_layout()\n",
    "\n",
    "plt.savefig(src_path + 'figures/traffic_category.png', dpi=300, bbox_inches='tight', format='png')\n",
    "\n",
    "plt.show()\n",
    "plt.close()\n"
   ]
  },
  {
   "cell_type": "code",
   "execution_count": null,
   "metadata": {},
   "outputs": [],
   "source": []
  }
 ],
 "metadata": {
  "kernelspec": {
   "display_name": "base",
   "language": "python",
   "name": "python3"
  },
  "language_info": {
   "codemirror_mode": {
    "name": "ipython",
    "version": 3
   },
   "file_extension": ".py",
   "mimetype": "text/x-python",
   "name": "python",
   "nbconvert_exporter": "python",
   "pygments_lexer": "ipython3",
   "version": "3.9.7"
  },
  "orig_nbformat": 4
 },
 "nbformat": 4,
 "nbformat_minor": 2
}
