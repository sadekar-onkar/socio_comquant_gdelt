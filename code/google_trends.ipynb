{
 "cells": [
  {
   "cell_type": "code",
   "execution_count": 6,
   "metadata": {},
   "outputs": [],
   "source": [
    "# !pip install pytrends\n",
    "# !pip install plotly\n",
    "# !pip install pywikibot\n",
    "# !pip install -U setuptools"
   ]
  },
  {
   "cell_type": "code",
   "execution_count": 11,
   "metadata": {},
   "outputs": [],
   "source": [
    "import pandas as pd\n",
    "from pytrends.request import TrendReq\n",
    "import pywikibot\n",
    "\n",
    "pytrends = TrendReq(hl='en-US', tz=360)"
   ]
  },
  {
   "cell_type": "code",
   "execution_count": 12,
   "metadata": {},
   "outputs": [],
   "source": [
    "kw_list = [\"Ukraine war\"] # list of keywords to get data \n",
    "pytrends.build_payload(kw_list, cat=0, timeframe='2021-01-01 2023-07-25')\n",
    "\n",
    "pytrend = TrendReq()"
   ]
  },
  {
   "cell_type": "code",
   "execution_count": 13,
   "metadata": {},
   "outputs": [],
   "source": [
    "#1 Interest over Time\n",
    "# data = pytrends.interest_over_time() \n",
    "# data = data.reset_index() \n",
    "\n",
    "# import plotly.express as px\n",
    "# fig = px.line(data, x=\"date\", y=kw_list, title='Keyword Web Search Interest Over Time')\n",
    "# fig.show() "
   ]
  },
  {
   "cell_type": "code",
   "execution_count": 16,
   "metadata": {},
   "outputs": [],
   "source": [
    "site = pywikibot.Site(\"en\", \"wikipedia\")\n",
    "page = pywikibot.Page(site, \"Russian_invasion_of_Ukraine\")\n",
    "revs = page.revisions(content=False)"
   ]
  },
  {
   "cell_type": "code",
   "execution_count": 22,
   "metadata": {},
   "outputs": [
    {
     "data": {
      "text/plain": [
       "Timestamp(2022, 2, 23, 17, 12, 23)"
      ]
     },
     "execution_count": 22,
     "metadata": {},
     "output_type": "execute_result"
    }
   ],
   "source": [
    "revs = list(revs)\n",
    "revs[-1].timestamp"
   ]
  },
  {
   "cell_type": "code",
   "execution_count": null,
   "metadata": {},
   "outputs": [],
   "source": []
  }
 ],
 "metadata": {
  "kernelspec": {
   "display_name": "base",
   "language": "python",
   "name": "python3"
  },
  "language_info": {
   "codemirror_mode": {
    "name": "ipython",
    "version": 3
   },
   "file_extension": ".py",
   "mimetype": "text/x-python",
   "name": "python",
   "nbconvert_exporter": "python",
   "pygments_lexer": "ipython3",
   "version": "3.9.7"
  },
  "orig_nbformat": 4
 },
 "nbformat": 4,
 "nbformat_minor": 2
}
