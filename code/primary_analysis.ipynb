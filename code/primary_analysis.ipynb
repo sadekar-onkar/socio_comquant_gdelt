{
 "cells": [
  {
   "cell_type": "code",
   "execution_count": 13,
   "metadata": {},
   "outputs": [],
   "source": [
    "import pandas as pd\n",
    "import numpy as np\n",
    "import matplotlib.pyplot as plt\n",
    "import os\n",
    "\n",
    "src_path = os.getcwd()[0:-4]"
   ]
  },
  {
   "cell_type": "code",
   "execution_count": 17,
   "metadata": {},
   "outputs": [
    {
     "data": {
      "text/plain": [
       "Index(['title_full', 'title', 'title_slug', 'url', 'category', 'bias_rating',\n",
       "       'factual_reporting', 'country', 'press_freedom_rating', 'media_type',\n",
       "       'traffic/popularity', 'mbfc_credibility_rating',\n",
       "       'mbfc’s_country_freedom_rating', 'mbfc’s_freedom_rating',\n",
       "       'press_freedom_rank', 'world_press_freedom_rank',\n",
       "       'mbfc’s_country_freedom_rank', 'mbfc’s_country_freedom_profile',\n",
       "       'press_freedom_rating_', 'mbfc_country_freedom_rating', 'reasoning',\n",
       "       '_world_press_freedom_rank', 'questionable_reasoning'],\n",
       "      dtype='object')"
      ]
     },
     "execution_count": 17,
     "metadata": {},
     "output_type": "execute_result"
    }
   ],
   "source": [
    "df = pd.read_csv(src_path + 'data/bias_data.csv')\n",
    "\n",
    "df.columns"
   ]
  },
  {
   "cell_type": "code",
   "execution_count": 37,
   "metadata": {},
   "outputs": [
    {
     "data": {
      "text/plain": [
       "['center', 'right-center', 'left', 'leftcenter', 'right']"
      ]
     },
     "execution_count": 37,
     "metadata": {},
     "output_type": "execute_result"
    }
   ],
   "source": [
    "mediahouse_category = list(df['category'].unique())\n",
    "\n",
    "\n",
    "for mh_cat in mediahouse_category:\n",
    "    temp_df = df[df['category'] == mh_cat]\n",
    "\n",
    "    "
   ]
  },
  {
   "cell_type": "code",
   "execution_count": 23,
   "metadata": {},
   "outputs": [],
   "source": [
    "# fig, ax = plt.subplots(figsize=(10, 10))\n",
    "\n",
    "# ax.scatter(df['traffic/popularity'], df['bias_rating'], s=10, c='k', alpha=0.5)"
   ]
  },
  {
   "cell_type": "code",
   "execution_count": null,
   "metadata": {},
   "outputs": [],
   "source": []
  }
 ],
 "metadata": {
  "kernelspec": {
   "display_name": "base",
   "language": "python",
   "name": "python3"
  },
  "language_info": {
   "codemirror_mode": {
    "name": "ipython",
    "version": 3
   },
   "file_extension": ".py",
   "mimetype": "text/x-python",
   "name": "python",
   "nbconvert_exporter": "python",
   "pygments_lexer": "ipython3",
   "version": "3.9.7"
  },
  "orig_nbformat": 4
 },
 "nbformat": 4,
 "nbformat_minor": 2
}
